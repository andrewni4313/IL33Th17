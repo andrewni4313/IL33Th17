{
 "cells": [
  {
   "cell_type": "markdown",
   "metadata": {},
   "source": [
    "__Author:__ Bram Van de Sande\n",
    "    \n",
    "__Date:__ 14 JUN 2019\n",
    "\n",
    "__Outline:__ Notebook generating list of Transcription Factors (TFs) for human and mouse. These lists can be used for the network inference step of SCENIC (step 1 - GENIE3/GRNBoost2)."
   ]
  },
  {
   "cell_type": "markdown",
   "metadata": {},
   "source": [
    "__DATA ACQUISITION:__\n",
    "1. Download motif annotations for _H. sapiens_ - HGNC symbols: `wget https://resources.aertslab.org/cistarget/motif2tf/motifs-v9-nr.hgnc-m0.001-o0.0.tbl`\n",
    "2. Download motif annotations for _M. musculus_ - MGI symbols: `wget https://resources.aertslab.org/cistarget/motif2tf/motifs-v9-nr.mgi-m0.001-o0.0.tbl`\n",
    "3. Download list of curated human transcription factors from: Lambert SA et al. The Human Transcription Factors. Cell 2018 https://dx.doi.org/10.1016/j.cell.2018.01.029 "
   ]
  },
  {
   "cell_type": "code",
   "execution_count": null,
   "metadata": {},
   "outputs": [],
   "source": [
    "import os\n",
    "import pandas as pd"
   ]
  },
  {
   "cell_type": "code",
   "execution_count": null,
   "metadata": {},
   "outputs": [],
   "source": [
    "BASEFOLDER_NAME = 'Scenic/Resources/'\n",
    "\n",
    "MOTIFS_MGI_FNAME = os.path.join(BASEFOLDER_NAME, 'motifs-v9-nr.mgi-m0.001-o0.0.tbl')\n",
    "\n",
    "OUT_TFS_MGI_FNAME = os.path.join(BASEFOLDER_NAME, 'mm_mgi_tfs.txt')"
   ]
  },
  {
   "cell_type": "markdown",
   "metadata": {},
   "source": [
    "__MUS MUSCULUS__"
   ]
  },
  {
   "cell_type": "code",
   "execution_count": null,
   "metadata": {},
   "outputs": [],
   "source": [
    "df_motifs_mgi = pd.read_csv(MOTIFS_MGI_FNAME, sep='\\t')\n",
    "mm_tfs = df_motifs_mgi.gene_name.unique()\n",
    "with open(OUT_TFS_MGI_FNAME, 'wt') as f:\n",
    "    f.write('\\n'.join(mm_tfs) + '\\n')\n",
    "len(mm_tfs)"
   ]
  }
 ],
 "metadata": {
  "kernelspec": {
   "display_name": "Python 3",
   "language": "python",
   "name": "python3"
  },
  "language_info": {
   "codemirror_mode": {
    "name": "ipython",
    "version": 3
   },
   "file_extension": ".py",
   "mimetype": "text/x-python",
   "name": "python",
   "nbconvert_exporter": "python",
   "pygments_lexer": "ipython3",
   "version": "3.7.4"
  }
 },
 "nbformat": 4,
 "nbformat_minor": 2
}
