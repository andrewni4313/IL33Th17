{
 "cells": [
  {
   "cell_type": "code",
   "execution_count": null,
   "metadata": {},
   "outputs": [],
   "source": [
    "import pandas as pd\n",
    "import numpy as np\n",
    "import os, glob\n",
    "import pickle\n",
    "\n",
    "from arboreto.utils import load_tf_names\n",
    "from arboreto.algo import grnboost2\n",
    "\n",
    "from pyscenic.rnkdb import FeatherRankingDatabase as RankingDatabase\n",
    "from pyscenic.utils import modules_from_adjacencies\n",
    "from pyscenic.prune import prune2df, df2regulons\n",
    "from pyscenic.aucell import aucell\n",
    "\n",
    "import seaborn as sns"
   ]
  },
  {
   "cell_type": "code",
   "execution_count": null,
   "metadata": {},
   "outputs": [],
   "source": [
    "RESOURCES_FOLDER=\"Data/SCENIC/Resources/\"\n",
    "DATABASE_FOLDER = \"Data/SCENIC/Databases/\"\n",
    "\n",
    "DATABASES_GLOB = os.path.join(DATABASE_FOLDER, \"mm9-*.mc9nr.feather\")\n",
    "MOTIF_ANNOTATIONS_FNAME = os.path.join(RESOURCES_FOLDER, \"motifs-v9-nr.mgi-m0.001-o0.0.tbl\")\n",
    "\n",
    "MM_TFS_FNAME = os.path.join(RESOURCES_FOLDER, 'mm_mgi_tfs.txt')"
   ]
  },
  {
   "cell_type": "markdown",
   "metadata": {},
   "source": [
    "# Preliminary work"
   ]
  },
  {
   "cell_type": "markdown",
   "metadata": {},
   "source": [
    "### Derive list of Transcription Factors(TF) for _Mus musculus_"
   ]
  },
  {
   "cell_type": "code",
   "execution_count": null,
   "metadata": {},
   "outputs": [],
   "source": [
    "tf_names = load_tf_names(MM_TFS_FNAME)"
   ]
  },
  {
   "cell_type": "markdown",
   "metadata": {},
   "source": [
    "### Load ranking databases"
   ]
  },
  {
   "cell_type": "code",
   "execution_count": null,
   "metadata": {},
   "outputs": [],
   "source": [
    "db_fnames = glob.glob(DATABASES_GLOB)\n",
    "def name(fname):\n",
    "    return os.path.splitext(os.path.basename(fname))[0]\n",
    "dbs = [RankingDatabase(fname=fname, name=name(fname)) for fname in db_fnames]\n",
    "dbs"
   ]
  },
  {
   "cell_type": "markdown",
   "metadata": {},
   "source": [
    "# SCENIC"
   ]
  },
  {
   "cell_type": "markdown",
   "metadata": {},
   "source": [
    "### B16 vs B16il33"
   ]
  },
  {
   "cell_type": "code",
   "execution_count": null,
   "metadata": {
    "scrolled": false
   },
   "outputs": [],
   "source": [
    "ex_matrix = pd.read_csv(\"Data/Cells/CD4/cd4.matrix.csv\", sep=' ', header=0, index_col=0).T\n",
    "ex_matrix"
   ]
  },
  {
   "cell_type": "code",
   "execution_count": null,
   "metadata": {
    "scrolled": true
   },
   "outputs": [],
   "source": [
    "DATA_FOLDER=\"Data/Cells/CD4/SCENIC/\"\n",
    "\n",
    "ADJACENCIES_FNAME = os.path.join(DATA_FOLDER, \"adjacencies.tsv\")\n",
    "MODULES_FNAME = os.path.join(DATA_FOLDER, \"modules.p\")\n",
    "MOTIFS_FNAME = os.path.join(DATA_FOLDER, \"motifs.csv\")\n",
    "REGULONS_FNAME = os.path.join(DATA_FOLDER, \"regulons.p\")\n",
    "AUC_FNAME = os.path.join(DATA_FOLDER, \"auc_mtx.csv\")\n",
    "\n",
    "adjacencies = grnboost2(expression_data=ex_matrix, tf_names=tf_names, verbose=True)\n",
    "\n",
    "print(adjacencies.head())\n",
    "\n",
    "adjacencies.to_csv(ADJACENCIES_FNAME, index=False, sep='\\t')\n",
    "#adjacencies = pd.read_csv(ADJACENCIES_FNAME, sep='\\t')\n",
    "\n",
    "modules = list(modules_from_adjacencies(adjacencies, ex_matrix))\n",
    "\n",
    "with open(MODULES_FNAME, 'wb') as f:\n",
    "    pickle.dump(modules, f)\n",
    "\n",
    "df = prune2df(dbs, modules, MOTIF_ANNOTATIONS_FNAME)\n",
    "\n",
    "print(df.head())\n",
    "\n",
    "df.to_csv(MOTIFS_FNAME)\n",
    "\n",
    "regulons = df2regulons(df)\n",
    "\n",
    "with open(REGULONS_FNAME, 'wb') as f:\n",
    "    pickle.dump(regulons, f)\n",
    "\n",
    "auc_mtx = aucell(ex_matrix, regulons)\n",
    "\n",
    "sns.clustermap(auc_mtx, figsize=(12,12))\n",
    "\n",
    "auc_mtx.to_csv(AUC_FNAME)\n"
   ]
  }
 ],
 "metadata": {
  "kernelspec": {
   "display_name": "Python 3",
   "language": "python",
   "name": "python3"
  },
  "language_info": {
   "codemirror_mode": {
    "name": "ipython",
    "version": 3
   },
   "file_extension": ".py",
   "mimetype": "text/x-python",
   "name": "python",
   "nbconvert_exporter": "python",
   "pygments_lexer": "ipython3",
   "version": "3.7.4"
  }
 },
 "nbformat": 4,
 "nbformat_minor": 2
}
