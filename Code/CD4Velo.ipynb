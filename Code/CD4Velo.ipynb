{
 "cells": [
  {
   "cell_type": "code",
   "execution_count": null,
   "metadata": {},
   "outputs": [],
   "source": [
    "import anndata\n",
    "import scvelo as scv\n",
    "import pandas as pd\n",
    "import numpy as np\n",
    "import matplotlib as plt\n",
    "\n",
    "adata = scv.read(\"Data/velocyto/possorted_genome_bam_1.loom\", cache=True)"
   ]
  },
  {
   "cell_type": "code",
   "execution_count": null,
   "metadata": {},
   "outputs": [],
   "source": [
    "scv.pl.proportions(adata)\n",
    "scv.utils.show_proportions(adata)"
   ]
  },
  {
   "cell_type": "code",
   "execution_count": null,
   "metadata": {},
   "outputs": [],
   "source": [
    "adata.obs.index = adata.obs.index.str.extract('\\:(.*?)(?=x)')[0]\n",
    "adata.obs.index"
   ]
  },
  {
   "cell_type": "code",
   "execution_count": null,
   "metadata": {},
   "outputs": [],
   "source": [
    "cellID_obs = pd.read_csv(\"Data/Cells/CD4/cd4.cellID_obs.csv\", index_col=0)['x']\n",
    "umap_cord = pd.read_csv(\"Data/Cells/CD4/cd4.cell_embeddings_umap.csv\")\n",
    "phate_cord = pd.read_csv(\"Data/Cells/CD4/cd4.cell_embeddings_phate.csv\")\n",
    "cell_clusters = pd.read_csv(\"Data/Cells/CD4/cd4.clusters.csv\")\n",
    "tumors = pd.read_csv(\"Data/Cells/CD4/cd4.tumor.csv\")"
   ]
  },
  {
   "cell_type": "code",
   "execution_count": null,
   "metadata": {},
   "outputs": [],
   "source": [
    "adata.obs.index = [cell+'-1' for cell in adata.obs.index]\n",
    "adata = adata[np.isin(adata.obs.index,cellID_obs)]"
   ]
  },
  {
   "cell_type": "code",
   "execution_count": null,
   "metadata": {},
   "outputs": [],
   "source": [
    "scv.pl.proportions(adata)"
   ]
  },
  {
   "cell_type": "code",
   "execution_count": null,
   "metadata": {},
   "outputs": [],
   "source": [
    "adata_index = pd.DataFrame(adata.obs.index)\n",
    "adata_index = adata_index.rename(columns = {0:'Cell ID'})"
   ]
  },
  {
   "cell_type": "code",
   "execution_count": null,
   "metadata": {},
   "outputs": [],
   "source": [
    "umap_cord = umap_cord.rename(columns={'Unnamed: 0':'Cell ID'})\n",
    "umap_ordered = adata_index.merge(umap_cord,on=\"Cell ID\")\n",
    "umap_ordered = umap_ordered.iloc[:,1:]\n",
    "adata.obsm['X_umap'] = umap_ordered.values"
   ]
  },
  {
   "cell_type": "code",
   "execution_count": null,
   "metadata": {},
   "outputs": [],
   "source": [
    "phate_cord = phate_cord.rename(columns={'Unnamed: 0':'Cell ID'})\n",
    "phate_ordered = adata_index.merge(phate_cord,on=\"Cell ID\")\n",
    "phate_ordered = phate_ordered.iloc[:,1:]\n",
    "adata.obsm['X_phate'] = phate_ordered.values"
   ]
  },
  {
   "cell_type": "code",
   "execution_count": null,
   "metadata": {},
   "outputs": [],
   "source": [
    "cell_clusters = cell_clusters.rename(columns={'Unnamed: 0':'Cell ID'})\n",
    "cell_clusters_ordered = adata_index.merge(cell_clusters,on=\"Cell ID\")\n",
    "cell_clusters_ordered = cell_clusters_ordered.iloc[:,1:]\n",
    "adata.obs['clusters'] = cell_clusters_ordered.values"
   ]
  },
  {
   "cell_type": "code",
   "execution_count": null,
   "metadata": {},
   "outputs": [],
   "source": [
    "tumors = tumors.rename(columns={'Unnamed: 0':'Cell ID'})\n",
    "tumors_ordered = adata_index.merge(tumors,on=\"Cell ID\")\n",
    "tumors_ordered = tumors_ordered.iloc[:,1:]\n",
    "adata.obs['tumors'] = tumors_ordered.values"
   ]
  },
  {
   "cell_type": "code",
   "execution_count": null,
   "metadata": {},
   "outputs": [],
   "source": [
    "adata"
   ]
  },
  {
   "cell_type": "code",
   "execution_count": null,
   "metadata": {},
   "outputs": [],
   "source": [
    "scv.pp.filter_and_normalize(adata)\n",
    "scv.pp.moments(adata)\n",
    "scv.tl.velocity(adata, mode = \"stochastic\")\n",
    "scv.tl.velocity_graph(adata)"
   ]
  },
  {
   "cell_type": "code",
   "execution_count": null,
   "metadata": {},
   "outputs": [],
   "source": [
    "plt.rcParams['figure.figsize'] = [12, 8]\n",
    "plt.rcParams['figure.dpi'] = 200"
   ]
  },
  {
   "cell_type": "code",
   "execution_count": null,
   "metadata": {},
   "outputs": [],
   "source": [
    "scv.pl.velocity_embedding(adata, basis='umap', color='clusters')\n",
    "scv.pl.velocity_embedding_stream(adata, basis='umap', color='clusters')\n",
    "scv.pl.velocity_embedding_grid(adata, basis='umap', color='clusters')"
   ]
  },
  {
   "cell_type": "code",
   "execution_count": null,
   "metadata": {},
   "outputs": [],
   "source": [
    "scv.pl.velocity_embedding_grid(adata, basis='umap', smooth = 1, density = 1.5, color = 'clusters', arrow_length=3)"
   ]
  },
  {
   "cell_type": "code",
   "execution_count": null,
   "metadata": {},
   "outputs": [],
   "source": [
    "scv.pl.velocity_embedding_grid(adata, basis='phate', smooth = 1, density = 1.5, color = 'clusters', arrow_length=1)"
   ]
  },
  {
   "cell_type": "code",
   "execution_count": null,
   "metadata": {},
   "outputs": [],
   "source": [
    "adata.obs['tumors']"
   ]
  },
  {
   "cell_type": "code",
   "execution_count": null,
   "metadata": {},
   "outputs": [],
   "source": [
    "b16 = adata[adata.obs['tumors'] == 'b16']\n",
    "scv.tl.velocity(b16, mode = \"stochastic\")\n",
    "scv.tl.velocity_graph(b16)\n",
    "scv.pl.velocity_embedding(b16, basis='umap', color='clusters')\n",
    "scv.pl.velocity_embedding_stream(b16, basis='umap', color='clusters')\n",
    "scv.pl.velocity_embedding_grid(b16, basis='umap', color='clusters')\n",
    "scv.pl.velocity_embedding_grid(b16, basis='umap', smooth = 1, density = 1.5, color = 'clusters', arrow_length=3)\n",
    "scv.tl.paga(b16, groups='clusters')\n",
    "scv.pl.paga(b16, basis='umap', size=50, alpha=.1,\n",
    "            min_edge_width=2, node_size_scale=2)"
   ]
  },
  {
   "cell_type": "code",
   "execution_count": null,
   "metadata": {},
   "outputs": [],
   "source": [
    "b16il33 = adata[adata.obs['tumors'] == 'b16il33']\n",
    "scv.tl.velocity(b16il33, mode = \"stochastic\")\n",
    "scv.tl.velocity_graph(b16il33)\n",
    "scv.pl.velocity_embedding(b16il33, basis='umap', color='clusters')\n",
    "scv.pl.velocity_embedding_stream(b16il33, basis='umap', color='clusters')\n",
    "scv.pl.velocity_embedding_grid(b16il33, basis='umap', color='clusters')\n",
    "scv.pl.velocity_embedding_grid(b16il33, basis='umap', smooth = 1, density = 1.5, color = 'clusters', arrow_length=3)\n",
    "scv.tl.paga(b16il33, groups='clusters')\n",
    "scv.pl.paga(b16il33, basis='umap', size=50, alpha=.1,\n",
    "            min_edge_width=2, node_size_scale=2)"
   ]
  },
  {
   "cell_type": "code",
   "execution_count": null,
   "metadata": {},
   "outputs": [],
   "source": [
    "scv.tl.rank_velocity_genes(adata, groupby='clusters', min_corr=.3)\n",
    "\n",
    "df = scv.DataFrame(adata.uns['rank_velocity_genes']['names'])\n",
    "df.head()"
   ]
  },
  {
   "cell_type": "code",
   "execution_count": null,
   "metadata": {},
   "outputs": [],
   "source": [
    "scv.tl.velocity_confidence(adata)\n",
    "keys = 'velocity_length', 'velocity_confidence'\n",
    "scv.pl.scatter(adata, c=keys, cmap='coolwarm', perc=[5, 95])"
   ]
  },
  {
   "cell_type": "code",
   "execution_count": null,
   "metadata": {},
   "outputs": [],
   "source": [
    "df = adata.obs.groupby('clusters')[keys].mean().T\n",
    "df.style.background_gradient(cmap='coolwarm', axis=1)"
   ]
  },
  {
   "cell_type": "code",
   "execution_count": null,
   "metadata": {},
   "outputs": [],
   "source": [
    "# this is needed due to a current bug - bugfix is coming soon.\n",
    "adata.uns['neighbors']['distances'] = adata.obsp['distances']\n",
    "adata.uns['neighbors']['connectivities'] = adata.obsp['connectivities']\n",
    "\n",
    "scv.tl.paga(adata, groups='clusters')\n",
    "df = scv.get_df(adata, 'paga/transitions_confidence', precision=2).T\n",
    "df.style.background_gradient(cmap='Blues').format('{:.2g}')\n",
    "\n",
    "scv.pl.paga(adata, basis='umap', size=50, alpha=.1,\n",
    "            min_edge_width=2, node_size_scale=2)"
   ]
  },
  {
   "cell_type": "code",
   "execution_count": null,
   "metadata": {},
   "outputs": [],
   "source": [
    "scv.tl.recover_dynamics(adata)\n",
    "scv.tl.velocity(adata, mode='dynamical')\n",
    "scv.tl.velocity_graph(adata)"
   ]
  },
  {
   "cell_type": "code",
   "execution_count": null,
   "metadata": {},
   "outputs": [],
   "source": [
    "scv.pl.velocity_embedding(adata, basis='umap', color='clusters')\n",
    "scv.pl.velocity_embedding_stream(adata, basis='umap', color='clusters')\n",
    "scv.pl.velocity_embedding_grid(adata, basis='umap', color='clusters')"
   ]
  },
  {
   "cell_type": "code",
   "execution_count": null,
   "metadata": {},
   "outputs": [],
   "source": [
    "scv.pl.velocity_embedding_grid(adata, basis='umap', smooth = 1, density = 1.5, color = 'clusters', arrow_length=3)"
   ]
  },
  {
   "cell_type": "code",
   "execution_count": null,
   "metadata": {},
   "outputs": [],
   "source": [
    "df = adata.var\n",
    "df = df[(df['fit_likelihood'] > .1) & df['velocity_genes'] == True]\n",
    "\n",
    "kwargs = dict(xscale='log', fontsize=16)\n",
    "with scv.GridSpec(ncols=3) as pl:\n",
    "    pl.hist(df['fit_alpha'], xlabel='transcription rate', **kwargs)\n",
    "    pl.hist(df['fit_beta'] * df['fit_scaling'], xlabel='splicing rate', xticks=[.1, .4, 1], **kwargs)\n",
    "    pl.hist(df['fit_gamma'], xlabel='degradation rate', xticks=[.1, .4, 1], **kwargs)\n",
    "\n",
    "scv.get_df(adata, 'fit*', dropna=True).head()\n"
   ]
  },
  {
   "cell_type": "code",
   "execution_count": null,
   "metadata": {},
   "outputs": [],
   "source": [
    "scv.tl.latent_time(adata)\n",
    "scv.pl.scatter(adata, color='latent_time', color_map='gnuplot', size=80)\n"
   ]
  },
  {
   "cell_type": "code",
   "execution_count": null,
   "metadata": {
    "scrolled": false
   },
   "outputs": [],
   "source": [
    "top_genes = adata.var['fit_likelihood'].sort_values(ascending=False).index[:300]\n",
    "scv.pl.heatmap(adata, var_names=top_genes, sortby='latent_time', col_color='clusters', n_convolve=100)"
   ]
  },
  {
   "cell_type": "code",
   "execution_count": null,
   "metadata": {},
   "outputs": [],
   "source": [
    "top_genes = adata.var['fit_likelihood'].sort_values(ascending=False).index\n",
    "scv.pl.scatter(adata, basis=top_genes[:15], ncols=5, frameon=False)\n"
   ]
  },
  {
   "cell_type": "code",
   "execution_count": null,
   "metadata": {},
   "outputs": [],
   "source": [
    "scv.tl.rank_dynamical_genes(adata, groupby='clusters')\n",
    "df = scv.get_df(adata, 'rank_dynamical_genes/names')\n",
    "df.head(5)"
   ]
  },
  {
   "cell_type": "code",
   "execution_count": null,
   "metadata": {},
   "outputs": [],
   "source": [
    "for cluster in df.columns:\n",
    "    scv.pl.scatter(adata, df[cluster][:5], ylabel=cluster, frameon=False)"
   ]
  }
 ],
 "metadata": {
  "kernelspec": {
   "display_name": "Python 3",
   "language": "python",
   "name": "python3"
  },
  "language_info": {
   "codemirror_mode": {
    "name": "ipython",
    "version": 3
   },
   "file_extension": ".py",
   "mimetype": "text/x-python",
   "name": "python",
   "nbconvert_exporter": "python",
   "pygments_lexer": "ipython3",
   "version": "3.7.4"
  }
 },
 "nbformat": 4,
 "nbformat_minor": 2
}
